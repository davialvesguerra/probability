{
  "nbformat": 4,
  "nbformat_minor": 0,
  "metadata": {
    "colab": {
      "name": "probabe.ipynb",
      "provenance": [],
      "collapsed_sections": [],
      "authorship_tag": "ABX9TyPViRTPWnq2zMJSYsPapr8/",
      "include_colab_link": true
    },
    "kernelspec": {
      "name": "python3",
      "display_name": "Python 3"
    }
  },
  "cells": [
    {
      "cell_type": "markdown",
      "metadata": {
        "id": "view-in-github",
        "colab_type": "text"
      },
      "source": [
        "<a href=\"https://colab.research.google.com/github/davialvesguerra/probability/blob/master/probabe.ipynb\" target=\"_parent\"><img src=\"https://colab.research.google.com/assets/colab-badge.svg\" alt=\"Open In Colab\"/></a>"
      ]
    },
    {
      "cell_type": "markdown",
      "metadata": {
        "id": "c8sLmYmlLwN1",
        "colab_type": "text"
      },
      "source": [
        "\n",
        "#Classical Probability\n",
        "\n",
        "This is the most knowed, because the suggests examples is very comunm, for example:\n",
        "- the probability of the die´s faces\n",
        "- throw the coin\n",
        "- get the cards in deck, etc"
      ]
    },
    {
      "cell_type": "code",
      "metadata": {
        "id": "B2quUWlb-eUr",
        "colab_type": "code",
        "colab": {}
      },
      "source": [
        "###Aplications\n",
        "##dies´s faces\n",
        "\n",
        "#for this example, we will show the probability the die´s faces\n",
        "\n",
        "#this is our die\n",
        "dado = [1,2,3,4,5,6]\n",
        "\n",
        "#import the function sample to be more easy to \"sample\" results\n",
        "from random import randint,sample\n",
        "\n",
        "#try this many times and you`ll see the faces showing randomly\n",
        "sample(dado,1)\n",
        "\n",
        "#so, lets create the class \"die\" to use other functions\n",
        "\n",
        "class die:\n",
        "  \n",
        "  \n",
        "  #####################################################\n",
        "  def __init__(self):\n",
        "    from random import randint,sample\n",
        "    #show the die\n",
        "    self.die = [1,2,3,4,5,6]\n",
        "\n",
        "    ##sample one face in die\n",
        "    self.draw = (lambda x:sample(x,1))(dado)\n",
        "    \n",
        "\n",
        "  ######################################################\n",
        "\n",
        "  #run the sample n times to check all the results\n",
        "  def random_probabe(self, times = 1000):\n",
        "\n",
        "    results = []\n",
        "    for i in range(times):\n",
        "      results.append(sample(self.die,1)[0])\n",
        "\n",
        "    return results\n",
        "\n",
        "  ######################################################\n",
        "\n",
        "  #show the number of times a number appear\n",
        "  #and plot the graphic if user want\n",
        "  def check_probabe(self,times,probabe = False,plotar = False):\n",
        "    import matplotlib.pyplot as plt\n",
        "    \n",
        "    dic_probabe = {}\n",
        "    \n",
        "    for i in self.die:\n",
        "      dic_probabe[i] = self.random_probabe(times).count(i)\n",
        "\n",
        "    if probabe == True:\n",
        "      for i in range(1,7):\n",
        "        print(i, \"=\", self.random_probabe(times).count(i)/times)\n",
        "\n",
        "    if plotar == False:\n",
        "      return dic_probabe\n",
        "\n",
        "    else:\n",
        "      plt.bar(dic_probabe.keys(), dic_probabe.values())\n",
        "      plt.show()\n",
        "      \n",
        "\n",
        "\n",
        "die = die()\n",
        "die.__init__()\n"
      ],
      "execution_count": null,
      "outputs": []
    },
    {
      "cell_type": "code",
      "metadata": {
        "id": "kDQwFV6-fEOE",
        "colab_type": "code",
        "colab": {
          "base_uri": "https://localhost:8080/",
          "height": 34
        },
        "outputId": "456b30f1-b261-4659-973d-b36781383b1e"
      },
      "source": [
        "##get the cards in the deck\n",
        "\n",
        "class cards:\n",
        "  def __init__(self):\n",
        "\n",
        "    from random import randint,sample\n",
        "\n",
        "    self.cards = {\"copas\":[1,2,3,4,5,6,7,8,9,\"J\",\"Q\",\"K\"],\n",
        "                  \"paus\":[1,2,3,4,5,6,7,8,9,\"J\",\"Q\",\"K\"],\n",
        "                  \"ouros\":[1,2,3,4,5,6,7,8,9,\"J\",\"Q\",\"K\"],\n",
        "                  \"espada\":[1,2,3,4,5,6,7,8,9,\"J\",\"Q\",\"K\"]}\n",
        "\n",
        "  def generate_cards(self):\n",
        "\n",
        "    tipo = sample(self.cards.keys(),1)\n",
        "    print(sample(self.cards[tipo[0]],1)[0], \"de\", tipo[0])\n",
        "\n",
        "cards = cards()\n",
        "cards.generate_cards()\n"
      ],
      "execution_count": null,
      "outputs": [
        {
          "output_type": "stream",
          "text": [
            "1 de espada\n"
          ],
          "name": "stdout"
        }
      ]
    },
    {
      "cell_type": "markdown",
      "metadata": {
        "id": "cT_LqmCsMDCQ",
        "colab_type": "text"
      },
      "source": [
        "# Relative Frequency\n",
        "\n",
        "To show this definition, first things first i know to show a concept of *sample* and *events*.\n",
        "\n",
        "Sample is a number of observations than you are using.\n",
        "for example: the number of faces in a die are 1,2,3,4,5 and 6, so the sample is equal a {1,2,3,4,5,6}. (in probability we use {} to define a conjunt of observations).\n",
        "\n",
        "Event is a specific observation of our sample. For example: the face 1 is a event of sample´s die.\n",
        "\n",
        "Based on this, we`ll can to calculate the probability!\n",
        "\n",
        "So the probability to occur some event varies from 0 to 1.\n",
        "This is happend because the max probability to occurs some observation in sample is the sample itself. And the min probability to occurs some observations in sample is when doesnt occurs anything! \n",
        "\n",
        "Therefore, the others probabilitys is based in a division of own sample. Lets for a example.\n",
        "\n",
        "Lets use a example of die.\n",
        "\n",
        "Sample is: S = {1,2,3,4,5,6}\n",
        "\n",
        "lets suppose if we`ll throw the die two times and we´ll see the possible numbers of this move.\n",
        "\n",
        "whats the chance in a the previous assumption to die show the following example:\n",
        "- to drop 1 and first move and 4 and second move\n",
        "\n",
        "So, we have a event A which is equal a A = {1,4}\n",
        "To calculate the probaility of this event, we going to use python hehe."
      ]
    },
    {
      "cell_type": "code",
      "metadata": {
        "id": "5pINMHXUVAJB",
        "colab_type": "code",
        "colab": {}
      },
      "source": [
        "#before to code, lets define somethings:\n",
        "# - the moves is independents\n",
        "# - the die isnt addict\n",
        "\n",
        "#sample\n",
        "S = [(1,1),(1,2),(1,3),(1,4),(1,5),(1,6),\n",
        "     (2,1),(2,2),(2,3),(2,4),(2,5),(2,6),\n",
        "     (3,1),(3,2),(3,3),(3,4),(3,5),(3,6),\n",
        "     (4,1),(4,2),(4,3),(4,4),(4,5),(4,6),\n",
        "     (5,1),(5,2),(5,3),(5,4),(5,5),(5,6),\n",
        "     (6,1),(6,2),(6,3),(6,4),(6,5),(6,6)]\n",
        "\n",
        "#event\n",
        "A = (1,4)\n",
        "\n",
        "#check if the event A is in Sample\n",
        "A in S\n",
        "\n",
        "#calculates the probabilty\n",
        "p_A = S.count(A)/len(S)\n",
        "p_A\n",
        "\n",
        "\n",
        "\n"
      ],
      "execution_count": null,
      "outputs": []
    },
    {
      "cell_type": "code",
      "metadata": {
        "id": "Gmt_ZVN7L14S",
        "colab_type": "code",
        "colab": {
          "base_uri": "https://localhost:8080/",
          "height": 238
        },
        "outputId": "cc07ad0a-1f07-4a75-e0ef-81f2c0a1358b"
      },
      "source": [
        "#so, lets go to a second example.\n",
        "#whats the probability to throw the die two times and the sum of faces to be 9?\n",
        "\n",
        "#first move\n",
        "fir_move_die = [1,2,3,4,5,6]\n",
        "\n",
        "#second move\n",
        "sec_move_die = [1,2,3,4,5,6]\n",
        "\n",
        "#sample of all sum´s results\n",
        "sum_results = []\n",
        "\n",
        "#simulates the sums\n",
        "for face_1 in fir_move_die:\n",
        "  for face_2 in sec_move_die:\n",
        "    sum_results.append(face_1 + face_2)\n",
        "\n",
        "sum_results\n",
        "\n",
        "#to stay more easy to see, lets to check how many each numbers sums appear\n",
        "\n",
        "possibles_numbers = []\n",
        "for i in sum_results:\n",
        "  if i not in possibles_numbers:\n",
        "    possibles_numbers.append(i)\n",
        "\n",
        "#dictionary with all the counts \n",
        "dic_each_number_sum = {}\n",
        "\n",
        "#to be more easy to see\n",
        "for i in possibles_numbers:\n",
        "  dic_each_number_sum[i] = sum_results.count(i)\n",
        "  #print(i,\"=\",dic_each_number_sum[i])\n",
        "\n",
        "#lets create a dictionary for the faces´ number sum, \n",
        "#the number of times the sum of faces occurs, and the probability\n",
        "#to occurs\n",
        "\n",
        "dic_generate = {}\n",
        "\n",
        "\n",
        "#all we done, however more de buenas to coding\n",
        "dic_generate[\"numbers\"] = [x for x in dic_each_number_sum.keys()]\n",
        "dic_generate[\"counts\"] = [x for x in dic_each_number_sum.values()]\n",
        "dic_generate[\"probabe\"] = [round(x/sum([x for x in dic_each_number_sum.values()]),3) for x in dic_each_number_sum.values()]\n",
        "\n",
        "#to check if the sum of all probabilitys is equal the 1\n",
        "sum(dic_generate[\"probabe\"])\n",
        "dic_generate\n",
        "\n"
      ],
      "execution_count": null,
      "outputs": [
        {
          "output_type": "execute_result",
          "data": {
            "text/plain": [
              "{'counts': [1, 2, 3, 4, 5, 6, 5, 4, 3, 2, 1],\n",
              " 'numbers': [2, 3, 4, 5, 6, 7, 8, 9, 10, 11, 12],\n",
              " 'probabe': [0.028,\n",
              "  0.056,\n",
              "  0.083,\n",
              "  0.111,\n",
              "  0.139,\n",
              "  0.167,\n",
              "  0.139,\n",
              "  0.111,\n",
              "  0.083,\n",
              "  0.056,\n",
              "  0.028]}"
            ]
          },
          "metadata": {
            "tags": []
          },
          "execution_count": 5
        }
      ]
    },
    {
      "cell_type": "markdown",
      "metadata": {
        "id": "M1QQMhajywOt",
        "colab_type": "text"
      },
      "source": [
        "# Subjective probability\n",
        "\n",
        "This rule going to show two (or more) conditions of events to occurs.\n",
        "For example: whats the chance to get 3 of copas OR 6 of paus in a deck?\n",
        "\n",
        "If this event is disjoint, we use the following rule:\n",
        "  P(A U B) = P(A or B) = P(A) + P(B)\n",
        "\n",
        "If this event isnt disjoint, we use the following rule:\n",
        "  P(A U B) = P(A or B) = P(A) + P(B) - P(A ^ B)\n",
        "\n"
      ]
    },
    {
      "cell_type": "code",
      "metadata": {
        "id": "ahzLn4iRyb9-",
        "colab_type": "code",
        "colab": {}
      },
      "source": [
        "#lets call the cards\n",
        "\n",
        "class cards:\n",
        "  def __init__(self):\n",
        "\n",
        "    from random import randint,sample\n",
        "\n",
        "    self.cards = {\"copas\":[1,2,3,4,5,6,7,8,9,\"J\",\"Q\",\"K\"],\n",
        "                  \"paus\":[1,2,3,4,5,6,7,8,9,\"J\",\"Q\",\"K\"],\n",
        "                  \"ouros\":[1,2,3,4,5,6,7,8,9,\"J\",\"Q\",\"K\"],\n",
        "                  \"espada\":[1,2,3,4,5,6,7,8,9,\"J\",\"Q\",\"K\"]}\n",
        "\n",
        "  def generate_cards(self):\n",
        "\n",
        "    tipo = sample(self.cards.keys(),1)\n",
        "  \n",
        "\n",
        "    return [tipo[0], sample(self.cards[tipo[0]],1)[0]]\n",
        "\n",
        "cards = cards()\n",
        "baralho = cards.cards\n",
        "\n",
        "#whats the chance of to get the 3 of copas or 6 of paus\n",
        "#so, using the class with created:\n",
        "\n",
        "#print(cards.generate_cards())\n",
        "\n",
        "#we want: [\"copas\",3] or [\"paus\",6]\n",
        "\n",
        "#sample\n",
        "S = []\n",
        "\n",
        "for key in baralho:\n",
        "  for i in baralho[key]:\n",
        "    S.append([key, i])\n",
        "\n",
        "#event\n",
        "event = [[\"copas\",3],[\"paus\",6]]\n",
        "\n",
        "#check if this event in sample\n",
        "event[0] in S or event[1] in S\n",
        "\n",
        "#using the concept of events disjoint...\n",
        "\n",
        "prob_event = len(event[0])/len(S) + len(event[1])/len(S)\n",
        "round(prob_event,3)"
      ],
      "execution_count": null,
      "outputs": []
    }
  ]
}